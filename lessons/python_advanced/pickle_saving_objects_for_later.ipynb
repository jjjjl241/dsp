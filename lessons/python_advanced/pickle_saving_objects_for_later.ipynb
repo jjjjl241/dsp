{
 "cells": [
  {
   "cell_type": "code",
   "execution_count": 1,
   "metadata": {},
   "outputs": [
    {
     "name": "stdout",
     "output_type": "stream",
     "text": [
      "Python Version: 3.7.6 (default, Jan  8 2020, 13:42:34) \n",
      "[Clang 4.0.1 (tags/RELEASE_401/final)] \n",
      "\n"
     ]
    }
   ],
   "source": [
    "import sys\n",
    "print(\"Python Version:\", sys.version, '\\n')"
   ]
  },
  {
   "cell_type": "markdown",
   "metadata": {},
   "source": [
    "# Pickle: Saving Objects for Later"
   ]
  },
  {
   "cell_type": "markdown",
   "metadata": {},
   "source": [
    "Often in data science, we'll create some model or some version of our data and want to use it later. We have many options - we can save the coefficients, or save the data to csv, or...\n",
    "\n",
    "Actually, we don't have that many options. \n",
    "\n",
    "One way to overcome that is to save the python object to a file as a serialized object. That means we convert the entire object to a bunch of bytes, save those bytes into a file, and then have the ability to unpack those bytes back into their original format later. \n",
    "\n",
    "This is done by a module called `pickle`. Let's see it in action."
   ]
  },
  {
   "cell_type": "code",
   "execution_count": 2,
   "metadata": {},
   "outputs": [],
   "source": [
    "import pickle\n",
    "import random\n",
    "\n",
    "lots_of_noise = {\n",
    "    'CA': [random.randint(0,65) for _ in range(100)],\n",
    "    'IL': [random.randint(0,65) for _ in range(50)],\n",
    "    'NY': [random.randint(0,65) for _ in range(90)],\n",
    "    'WA': [random.randint(0,65) for _ in range(33)]\n",
    "}"
   ]
  },
  {
   "cell_type": "code",
   "execution_count": 3,
   "metadata": {},
   "outputs": [
    {
     "name": "stdout",
     "output_type": "stream",
     "text": [
      "{'CA': [33, 47, 25, 60, 30, 20, 59, 30, 11, 13, 44, 45, 33, 59, 63, 49, 27, 17, 6, 62, 58, 28, 41, 51, 22, 62, 46, 20, 54, 38, 27, 6, 52, 59, 3, 41, 9, 3, 12, 45, 10, 7, 55, 47, 7, 41, 37, 62, 30, 27, 31, 57, 22, 17, 39, 36, 63, 11, 40, 31, 14, 19, 41, 10, 26, 13, 34, 65, 20, 16, 31, 57, 65, 48, 46, 52, 25, 45, 6, 11, 0, 50, 30, 12, 15, 45, 35, 8, 6, 24, 47, 43, 60, 8, 37, 7, 12, 47, 41, 32], 'IL': [37, 33, 28, 45, 34, 45, 17, 10, 33, 20, 59, 65, 34, 25, 30, 34, 17, 59, 21, 28, 56, 54, 29, 46, 14, 25, 16, 43, 0, 12, 61, 39, 38, 51, 10, 3, 18, 21, 62, 59, 51, 11, 16, 6, 14, 22, 53, 46, 8, 44], 'NY': [44, 1, 28, 33, 28, 58, 29, 34, 8, 9, 26, 8, 37, 59, 65, 12, 33, 11, 29, 4, 44, 33, 30, 17, 26, 47, 55, 36, 2, 42, 12, 12, 51, 56, 42, 11, 57, 5, 63, 43, 37, 51, 11, 9, 63, 42, 62, 9, 27, 15, 54, 59, 17, 9, 30, 9, 62, 12, 10, 25, 35, 14, 6, 33, 46, 11, 61, 59, 55, 55, 46, 43, 35, 32, 52, 21, 16, 28, 30, 44, 31, 1, 39, 0, 58, 33, 26, 6, 30, 27], 'WA': [61, 55, 63, 50, 54, 2, 6, 65, 36, 42, 3, 46, 1, 52, 2, 62, 36, 55, 35, 7, 11, 19, 6, 65, 20, 2, 63, 5, 58, 37, 63, 61, 29]}\n"
     ]
    }
   ],
   "source": [
    "print(lots_of_noise)"
   ]
  },
  {
   "cell_type": "code",
   "execution_count": 4,
   "metadata": {},
   "outputs": [
    {
     "name": "stdout",
     "output_type": "stream",
     "text": [
      "Variable        Type      Data/Info\n",
      "-----------------------------------\n",
      "lots_of_noise   dict      n=4\n",
      "pickle          module    <module 'pickle' from '/U<...>lib/python3.7/pickle.py'>\n",
      "random          module    <module 'random' from '/U<...>lib/python3.7/random.py'>\n",
      "sys             module    <module 'sys' (built-in)>\n"
     ]
    }
   ],
   "source": [
    "whos"
   ]
  },
  {
   "cell_type": "markdown",
   "metadata": {},
   "source": [
    "We can see in this `whos` command that the object `lots_of_noise` exists and is a `dict` with 4 keys. Nice. Now let's look at our file system and verify that there isn't a file called `noise.pickle`."
   ]
  },
  {
   "cell_type": "code",
   "execution_count": 5,
   "metadata": {},
   "outputs": [
    {
     "name": "stdout",
     "output_type": "stream",
     "text": [
      "advanced_python_datatypes.ipynb       my_dataframe.pickle\r\n",
      "deep_and_shallow_copy.ipynb           noise.pickle\r\n",
      "\u001b[34mdeep_copy_demo\u001b[m\u001b[m                        pickle_saving_objects_for_later.ipynb\r\n",
      "instructor_guide_week1_day4.md        readme.md\r\n"
     ]
    }
   ],
   "source": [
    "!ls"
   ]
  },
  {
   "cell_type": "markdown",
   "metadata": {},
   "source": [
    "Okay, now we're ready to create a file and write the bytes to it. To do this with `pickle`, we use python's read-write streamer `open` and create a writable-binary (`wb`) file. We'll then use `pickle.dump` to put an object into that file as a string of bytes."
   ]
  },
  {
   "cell_type": "code",
   "execution_count": 6,
   "metadata": {},
   "outputs": [],
   "source": [
    "with open('noise.pickle', 'wb') as to_write:\n",
    "    pickle.dump(lots_of_noise, to_write)"
   ]
  },
  {
   "cell_type": "code",
   "execution_count": 7,
   "metadata": {},
   "outputs": [
    {
     "name": "stdout",
     "output_type": "stream",
     "text": [
      "advanced_python_datatypes.ipynb       my_dataframe.pickle\r\n",
      "deep_and_shallow_copy.ipynb           noise.pickle\r\n",
      "\u001b[34mdeep_copy_demo\u001b[m\u001b[m                        pickle_saving_objects_for_later.ipynb\r\n",
      "instructor_guide_week1_day4.md        readme.md\r\n"
     ]
    }
   ],
   "source": [
    "!ls"
   ]
  },
  {
   "cell_type": "markdown",
   "metadata": {},
   "source": [
    "Now let's delete `lots_of_noise` and prove to ourselves it doesn't exist in Python's memory anymore."
   ]
  },
  {
   "cell_type": "code",
   "execution_count": 8,
   "metadata": {},
   "outputs": [],
   "source": [
    "del lots_of_noise"
   ]
  },
  {
   "cell_type": "code",
   "execution_count": 9,
   "metadata": {},
   "outputs": [
    {
     "name": "stdout",
     "output_type": "stream",
     "text": [
      "Variable   Type              Data/Info\n",
      "--------------------------------------\n",
      "pickle     module            <module 'pickle' from '/U<...>lib/python3.7/pickle.py'>\n",
      "random     module            <module 'random' from '/U<...>lib/python3.7/random.py'>\n",
      "sys        module            <module 'sys' (built-in)>\n",
      "to_write   BufferedWriter    <_io.BufferedWriter name='noise.pickle'>\n"
     ]
    }
   ],
   "source": [
    "whos"
   ]
  },
  {
   "cell_type": "code",
   "execution_count": 10,
   "metadata": {},
   "outputs": [
    {
     "ename": "NameError",
     "evalue": "name 'lots_of_noise' is not defined",
     "output_type": "error",
     "traceback": [
      "\u001b[0;31m---------------------------------------------------------------------------\u001b[0m",
      "\u001b[0;31mNameError\u001b[0m                                 Traceback (most recent call last)",
      "\u001b[0;32m<ipython-input-10-69f22b4d5ca8>\u001b[0m in \u001b[0;36m<module>\u001b[0;34m\u001b[0m\n\u001b[0;32m----> 1\u001b[0;31m \u001b[0mprint\u001b[0m\u001b[0;34m(\u001b[0m\u001b[0mlots_of_noise\u001b[0m\u001b[0;34m)\u001b[0m\u001b[0;34m\u001b[0m\u001b[0;34m\u001b[0m\u001b[0m\n\u001b[0m",
      "\u001b[0;31mNameError\u001b[0m: name 'lots_of_noise' is not defined"
     ]
    }
   ],
   "source": [
    "print(lots_of_noise)"
   ]
  },
  {
   "cell_type": "markdown",
   "metadata": {},
   "source": [
    "Lovely. It's dead forever. Or is it?\n",
    "\n",
    "Let's open that `noise.pickle` file with read-binary (`rb`) mode. Then we'll ask pickle to retrieve the file with `pickle.load` and store it back in a variable."
   ]
  },
  {
   "cell_type": "code",
   "execution_count": 11,
   "metadata": {},
   "outputs": [],
   "source": [
    "with open('noise.pickle','rb') as read_file:\n",
    "    new_noise = pickle.load(read_file)"
   ]
  },
  {
   "cell_type": "code",
   "execution_count": 12,
   "metadata": {},
   "outputs": [
    {
     "name": "stdout",
     "output_type": "stream",
     "text": [
      "{'CA': [33, 47, 25, 60, 30, 20, 59, 30, 11, 13, 44, 45, 33, 59, 63, 49, 27, 17, 6, 62, 58, 28, 41, 51, 22, 62, 46, 20, 54, 38, 27, 6, 52, 59, 3, 41, 9, 3, 12, 45, 10, 7, 55, 47, 7, 41, 37, 62, 30, 27, 31, 57, 22, 17, 39, 36, 63, 11, 40, 31, 14, 19, 41, 10, 26, 13, 34, 65, 20, 16, 31, 57, 65, 48, 46, 52, 25, 45, 6, 11, 0, 50, 30, 12, 15, 45, 35, 8, 6, 24, 47, 43, 60, 8, 37, 7, 12, 47, 41, 32], 'IL': [37, 33, 28, 45, 34, 45, 17, 10, 33, 20, 59, 65, 34, 25, 30, 34, 17, 59, 21, 28, 56, 54, 29, 46, 14, 25, 16, 43, 0, 12, 61, 39, 38, 51, 10, 3, 18, 21, 62, 59, 51, 11, 16, 6, 14, 22, 53, 46, 8, 44], 'NY': [44, 1, 28, 33, 28, 58, 29, 34, 8, 9, 26, 8, 37, 59, 65, 12, 33, 11, 29, 4, 44, 33, 30, 17, 26, 47, 55, 36, 2, 42, 12, 12, 51, 56, 42, 11, 57, 5, 63, 43, 37, 51, 11, 9, 63, 42, 62, 9, 27, 15, 54, 59, 17, 9, 30, 9, 62, 12, 10, 25, 35, 14, 6, 33, 46, 11, 61, 59, 55, 55, 46, 43, 35, 32, 52, 21, 16, 28, 30, 44, 31, 1, 39, 0, 58, 33, 26, 6, 30, 27], 'WA': [61, 55, 63, 50, 54, 2, 6, 65, 36, 42, 3, 46, 1, 52, 2, 62, 36, 55, 35, 7, 11, 19, 6, 65, 20, 2, 63, 5, 58, 37, 63, 61, 29]}\n"
     ]
    }
   ],
   "source": [
    "print(new_noise)"
   ]
  },
  {
   "cell_type": "code",
   "execution_count": 13,
   "metadata": {},
   "outputs": [
    {
     "name": "stdout",
     "output_type": "stream",
     "text": [
      "Variable    Type              Data/Info\n",
      "---------------------------------------\n",
      "new_noise   dict              n=4\n",
      "pickle      module            <module 'pickle' from '/U<...>lib/python3.7/pickle.py'>\n",
      "random      module            <module 'random' from '/U<...>lib/python3.7/random.py'>\n",
      "read_file   BufferedReader    <_io.BufferedReader name='noise.pickle'>\n",
      "sys         module            <module 'sys' (built-in)>\n",
      "to_write    BufferedWriter    <_io.BufferedWriter name='noise.pickle'>\n"
     ]
    }
   ],
   "source": [
    "whos"
   ]
  },
  {
   "cell_type": "markdown",
   "metadata": {},
   "source": [
    "Random noise lives! We retrieved the entire structure from file. Nice."
   ]
  },
  {
   "cell_type": "markdown",
   "metadata": {},
   "source": [
    "### Okay, but I don't use dictionaries... I use pandas."
   ]
  },
  {
   "cell_type": "code",
   "execution_count": 14,
   "metadata": {},
   "outputs": [
    {
     "data": {
      "text/html": [
       "<div>\n",
       "<style scoped>\n",
       "    .dataframe tbody tr th:only-of-type {\n",
       "        vertical-align: middle;\n",
       "    }\n",
       "\n",
       "    .dataframe tbody tr th {\n",
       "        vertical-align: top;\n",
       "    }\n",
       "\n",
       "    .dataframe thead th {\n",
       "        text-align: right;\n",
       "    }\n",
       "</style>\n",
       "<table border=\"1\" class=\"dataframe\">\n",
       "  <thead>\n",
       "    <tr style=\"text-align: right;\">\n",
       "      <th></th>\n",
       "      <th>Yay</th>\n",
       "      <th>specific</th>\n",
       "      <th>column</th>\n",
       "      <th>names</th>\n",
       "    </tr>\n",
       "  </thead>\n",
       "  <tbody>\n",
       "    <tr>\n",
       "      <th>0</th>\n",
       "      <td>5.029409</td>\n",
       "      <td>-6.236747</td>\n",
       "      <td>-5.247817</td>\n",
       "      <td>-3.150942</td>\n",
       "    </tr>\n",
       "    <tr>\n",
       "      <th>1</th>\n",
       "      <td>-3.018872</td>\n",
       "      <td>-1.284573</td>\n",
       "      <td>7.951994</td>\n",
       "      <td>-6.813511</td>\n",
       "    </tr>\n",
       "    <tr>\n",
       "      <th>2</th>\n",
       "      <td>9.130207</td>\n",
       "      <td>9.615834</td>\n",
       "      <td>2.230028</td>\n",
       "      <td>-6.062449</td>\n",
       "    </tr>\n",
       "    <tr>\n",
       "      <th>3</th>\n",
       "      <td>-3.860736</td>\n",
       "      <td>-7.121747</td>\n",
       "      <td>-3.878806</td>\n",
       "      <td>-5.739680</td>\n",
       "    </tr>\n",
       "    <tr>\n",
       "      <th>4</th>\n",
       "      <td>9.613902</td>\n",
       "      <td>-6.593276</td>\n",
       "      <td>8.127486</td>\n",
       "      <td>-9.912702</td>\n",
       "    </tr>\n",
       "  </tbody>\n",
       "</table>\n",
       "</div>"
      ],
      "text/plain": [
       "        Yay  specific    column     names\n",
       "0  5.029409 -6.236747 -5.247817 -3.150942\n",
       "1 -3.018872 -1.284573  7.951994 -6.813511\n",
       "2  9.130207  9.615834  2.230028 -6.062449\n",
       "3 -3.860736 -7.121747 -3.878806 -5.739680\n",
       "4  9.613902 -6.593276  8.127486 -9.912702"
      ]
     },
     "execution_count": 14,
     "metadata": {},
     "output_type": "execute_result"
    }
   ],
   "source": [
    "import pandas as pd\n",
    "import numpy as np\n",
    "\n",
    "df = pd.DataFrame(np.random.uniform(-10,10, size=(100,4)), columns=['Yay','specific','column','names'])\n",
    "df.head(5)"
   ]
  },
  {
   "cell_type": "code",
   "execution_count": 15,
   "metadata": {},
   "outputs": [],
   "source": [
    "with open('my_dataframe.pickle', 'wb') as to_write:\n",
    "    pickle.dump(df, to_write)"
   ]
  },
  {
   "cell_type": "code",
   "execution_count": 16,
   "metadata": {},
   "outputs": [
    {
     "ename": "NameError",
     "evalue": "name 'df' is not defined",
     "output_type": "error",
     "traceback": [
      "\u001b[0;31m---------------------------------------------------------------------------\u001b[0m",
      "\u001b[0;31mNameError\u001b[0m                                 Traceback (most recent call last)",
      "\u001b[0;32m<ipython-input-16-3975f6306adf>\u001b[0m in \u001b[0;36m<module>\u001b[0;34m\u001b[0m\n\u001b[1;32m      1\u001b[0m \u001b[0;32mdel\u001b[0m \u001b[0mdf\u001b[0m\u001b[0;34m\u001b[0m\u001b[0;34m\u001b[0m\u001b[0m\n\u001b[1;32m      2\u001b[0m \u001b[0;34m\u001b[0m\u001b[0m\n\u001b[0;32m----> 3\u001b[0;31m \u001b[0mdf\u001b[0m\u001b[0;34m.\u001b[0m\u001b[0mhead\u001b[0m\u001b[0;34m(\u001b[0m\u001b[0;36m5\u001b[0m\u001b[0;34m)\u001b[0m\u001b[0;34m\u001b[0m\u001b[0;34m\u001b[0m\u001b[0m\n\u001b[0m",
      "\u001b[0;31mNameError\u001b[0m: name 'df' is not defined"
     ]
    }
   ],
   "source": [
    "del df\n",
    "\n",
    "df.head(5)"
   ]
  },
  {
   "cell_type": "code",
   "execution_count": null,
   "metadata": {},
   "outputs": [],
   "source": [
    "with open('my_dataframe.pickle','rb') as read_file:\n",
    "    new_df = pickle.load(read_file)\n",
    "    \n",
    "new_df.head(5)"
   ]
  },
  {
   "cell_type": "markdown",
   "metadata": {},
   "source": [
    "Pickle is a great tool. One recommended way of using it is to make it an end point of every step in your process. Example:\n",
    "\n",
    "* I got my data! Nice. Pickle it and stop your \"getting the data\" notebook.\n",
    "* Load your data from pickle. Clean it. Save your clean data to a new pickle.\n",
    "* Load your cleaned_data pickle. Do analysis and visualize it.\n",
    "\n",
    "This can provide natural \"pick-up-where-I-left-off-but-before-I-broke-my-data\" points. It's a great way to control the flow of your data.\n",
    "\n",
    "#### Resources\n",
    "\n",
    "https://docs.python.org/3.7/library/pickle.html"
   ]
  },
  {
   "cell_type": "code",
   "execution_count": null,
   "metadata": {},
   "outputs": [],
   "source": []
  },
  {
   "cell_type": "code",
   "execution_count": null,
   "metadata": {},
   "outputs": [],
   "source": []
  }
 ],
 "metadata": {
  "kernelspec": {
   "display_name": "Python 3",
   "language": "python",
   "name": "python3"
  },
  "language_info": {
   "codemirror_mode": {
    "name": "ipython",
    "version": 3
   },
   "file_extension": ".py",
   "mimetype": "text/x-python",
   "name": "python",
   "nbconvert_exporter": "python",
   "pygments_lexer": "ipython3",
   "version": "3.7.6"
  }
 },
 "nbformat": 4,
 "nbformat_minor": 1
}
